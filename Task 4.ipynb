{
  "nbformat": 4,
  "nbformat_minor": 0,
  "metadata": {
    "colab": {
      "provenance": []
    },
    "kernelspec": {
      "name": "python3",
      "display_name": "Python 3"
    },
    "language_info": {
      "name": "python"
    }
  },
  "cells": [
    {
      "cell_type": "markdown",
      "source": [
        "#Importing the libraries\n"
      ],
      "metadata": {
        "id": "E5TiNFi6fLQj"
      }
    },
    {
      "cell_type": "code",
      "execution_count": 5,
      "metadata": {
        "id": "QiGaeOHOX23a"
      },
      "outputs": [],
      "source": [
        "import pandas as pd\n",
        "import numpy as np\n",
        "import matplotlib.pyplot as plt\n",
        "import re\n"
      ]
    },
    {
      "cell_type": "markdown",
      "source": [
        "#Loading the Dataset"
      ],
      "metadata": {
        "id": "yDaERhayfQJ9"
      }
    },
    {
      "cell_type": "code",
      "source": [
        "df = pd.read_csv(\"kaggle_survey_2017_2021.csv\")\n"
      ],
      "metadata": {
        "colab": {
          "base_uri": "https://localhost:8080/"
        },
        "id": "kF8YTSNxfPIX",
        "outputId": "88f265bf-0917-4311-a3c3-9f9b87472c44"
      },
      "execution_count": 6,
      "outputs": [
        {
          "output_type": "stream",
          "name": "stderr",
          "text": [
            "/tmp/ipython-input-122284297.py:1: DtypeWarning: Columns (0,1,19,31,45,48,51,64,81,93,100,106,108,132,151,161,166,213,226,238,253,267,275,281,291) have mixed types. Specify dtype option on import or set low_memory=False.\n",
            "  df = pd.read_csv(\"kaggle_survey_2017_2021.csv\")\n"
          ]
        }
      ]
    },
    {
      "cell_type": "markdown",
      "source": [
        "#Data Description"
      ],
      "metadata": {
        "id": "W_M2rIXEg4mD"
      }
    },
    {
      "cell_type": "code",
      "source": [
        "print(\"Shape of dataset:\", df.shape)\n",
        "print(\"\\nColumns:\")\n",
        "print(df.columns.tolist())\n"
      ],
      "metadata": {
        "colab": {
          "base_uri": "https://localhost:8080/"
        },
        "id": "OT5AzpgjgULC",
        "outputId": "1c77df0b-a0ee-49e4-8c39-70491c0bea6f"
      },
      "execution_count": 7,
      "outputs": [
        {
          "output_type": "stream",
          "name": "stdout",
          "text": [
            "Shape of dataset: (34109, 293)\n",
            "\n",
            "Columns:\n",
            "['-', 'Time from Start to Finish (seconds)', 'Q1', 'Q2', 'Q3', 'Q4', 'Q5', 'Q6', 'Q7_Part_1', 'Q7_Part_2', 'Q7_Part_3', 'Q7_Part_4', 'Q7_Part_5', 'Q7_Part_6', 'Q7_Part_7', 'Q7_Part_8', 'Q7_Part_9', 'Q7_Part_10', 'Q7_Part_11', 'Q7_Part_12', 'Q7_OTHER', 'Q8', 'Q9_Part_1', 'Q9_Part_2', 'Q9_Part_3', 'Q9_Part_5', 'Q9_Part_6', 'Q9_Part_7', 'Q9_Part_8', 'Q9_Part_9', 'Q9_Part_10', 'Q9_Part_12', 'Q9_OTHER', 'Q10_Part_1', 'Q10_Part_2', 'Q10_Part_3', 'Q10_Part_4', 'Q10_Part_5', 'Q10_Part_6', 'Q10_Part_7', 'Q10_Part_8', 'Q10_Part_9', 'Q10_Part_10', 'Q10_Part_11', 'Q10_Part_12', 'Q10_Part_16', 'Q10_OTHER', 'Q11', 'Q12new', 'Q12_Part_1', 'Q12_Part_2', 'Q12_Part_5', 'Q12_OTHER', 'Q13', 'Q14_Part_1', 'Q14_Part_2', 'Q14_Part_3', 'Q14_Part_4', 'Q14_Part_5', 'Q14_Part_6', 'Q14_Part_7', 'Q14_Part_8', 'Q14_Part_9', 'Q14_Part_10', 'Q14_Part_11', 'Q14_OTHER', 'Q15', 'Q16_Part_1', 'Q16_Part_2', 'Q16_Part_3', 'Q16_Part_4', 'Q16_Part_5', 'Q16_Part_6', 'Q16_Part_7', 'Q16_Part_8', 'Q16_Part_9', 'Q16_Part_10', 'Q16_Part_11', 'Q16_Part_12', 'Q16_Part_13', 'Q16_Part_14', 'Q16_Part_17', 'Q16_OTHER', 'Q17_Part_1', 'Q17_Part_2', 'Q17_Part_3', 'Q17_Part_4', 'Q17_Part_5', 'Q17_Part_6', 'Q17_Part_7', 'Q17_Part_8', 'Q17_Part_9', 'Q17_Part_10', 'Q17_Part_11', 'Q17_OTHER', 'Q18_Part_1', 'Q18_Part_2', 'Q18_Part_3', 'Q18_Part_4', 'Q18_Part_5', 'Q18_Part_6', 'Q18_OTHER', 'Q19_Part_1', 'Q19_Part_2', 'Q19_Part_3', 'Q19_Part_4', 'Q19_Part_5', 'Q19_OTHER', 'Q20', 'Q21', 'Q22', 'Q23', 'Q24_Part_1', 'Q24_Part_2', 'Q24_Part_3', 'Q24_Part_4', 'Q24_Part_5', 'Q24_Part_6', 'Q24_Part_7', 'Q24_OTHER', 'Q25', 'Q26', 'Q27_A_Part_1', 'Q27_A_Part_2', 'Q27_A_Part_3', 'Q27_A_Part_4', 'Q27_A_Part_5', 'Q27_A_Part_6', 'Q27_A_Part_7', 'Q27_A_Part_8', 'Q27_A_Part_9', 'Q27_A_Part_10', 'Q27_A_Part_11', 'Q27_A_OTHER', 'Q31_A_Part_1', 'Q31_A_Part_2', 'Q31_A_Part_9', 'Q31_A_OTHER', 'Q32_A_Part_1', 'Q32_A_Part_2', 'Q32_A_Part_3', 'Q32_A_Part_4', 'Q32_A_Part_5', 'Q32_A_Part_6', 'Q32_A_Part_7', 'Q32_A_Part_8', 'Q32_A_Part_11', 'Q32_A_Part_14', 'Q32_A_Part_15', 'Q32_A_Part_16', 'Q32_A_Part_17', 'Q32_A_Part_20', 'Q32_A_OTHER', 'Q33', 'Q34_A_Part_1', 'Q34_A_Part_2', 'Q34_A_Part_3', 'Q34_A_Part_4', 'Q34_A_Part_5', 'Q34_A_Part_6', 'Q34_A_Part_8', 'Q34_A_Part_9', 'Q34_A_Part_10', 'Q34_A_Part_11', 'Q34_A_Part_12', 'Q34_A_Part_13', 'Q34_A_Part_16', 'Q34_A_OTHER', 'Q35', 'Q36_A_Part_1', 'Q36_A_Part_2', 'Q36_A_Part_3', 'Q36_A_Part_4', 'Q36_A_Part_5', 'Q36_A_Part_6', 'Q36_A_Part_7', 'Q36_A_OTHER', 'Q37_A_Part_1', 'Q37_A_Part_2', 'Q37_A_Part_3', 'Q37_A_Part_4', 'Q37_A_Part_7', 'Q37_A_OTHER', 'Q38_A_Part_1', 'Q38_A_Part_2', 'Q38_A_Part_3', 'Q38_A_Part_4', 'Q38_A_Part_5', 'Q38_A_Part_6', 'Q38_A_Part_7', 'Q38_A_Part_9', 'Q38_A_Part_11', 'Q38_A_OTHER', 'Q39_Part_1', 'Q39_Part_2', 'Q39_Part_3', 'Q39_Part_4', 'Q39_Part_5', 'Q39_Part_6', 'Q39_Part_7', 'Q39_Part_8', 'Q39_Part_9', 'Q39_OTHER', 'Q40_Part_1', 'Q40_Part_2', 'Q40_Part_3', 'Q40_Part_4', 'Q40_Part_5', 'Q40_Part_6', 'Q40_Part_7', 'Q40_Part_8', 'Q40_Part_9', 'Q40_Part_10', 'Q40_Part_11', 'Q40_OTHER', 'Q41', 'Q42_Part_1', 'Q42_Part_2', 'Q42_Part_3', 'Q42_Part_4', 'Q42_Part_5', 'Q42_Part_6', 'Q42_Part_7', 'Q42_Part_8', 'Q42_Part_9', 'Q42_Part_10', 'Q42_Part_11', 'Q42_OTHER', 'Q27_B_Part_1', 'Q27_B_Part_2', 'Q27_B_Part_3', 'Q27_B_Part_4', 'Q27_B_Part_5', 'Q27_B_Part_6', 'Q27_B_Part_7', 'Q27_B_Part_8', 'Q27_B_Part_9', 'Q27_B_Part_10', 'Q27_B_Part_11', 'Q27_B_OTHER', 'Q32_B_Part_1', 'Q32_B_Part_2', 'Q32_B_Part_3', 'Q32_B_Part_4', 'Q32_B_Part_5', 'Q32_B_Part_6', 'Q32_B_Part_7', 'Q32_B_Part_8', 'Q32_B_Part_11', 'Q32_B_Part_13', 'Q32_B_Part_15', 'Q32_B_Part_16', 'Q32_B_Part_17', 'Q32_B_Part_20', 'Q32_B_OTHER', 'Q34_B_Part_1', 'Q34_B_Part_2', 'Q34_B_Part_3', 'Q34_B_Part_4', 'Q34_B_Part_5', 'Q34_B_Part_6', 'Q34_B_Part_8', 'Q34_B_Part_9', 'Q34_B_Part_10', 'Q34_B_Part_11', 'Q34_B_Part_12', 'Q34_B_Part_13', 'Q34_B_Part_16', 'Q34_B_OTHER', 'Q36_B_Part_1', 'Q36_B_Part_2', 'Q36_B_Part_3', 'Q36_B_Part_4', 'Q36_B_Part_5', 'Q36_B_Part_6', 'Q36_B_Part_7', 'Q36_B_OTHER', 'Q37_B_Part_1', 'Q37_B_Part_2', 'Q37_B_Part_3', 'Q37_B_Part_4', 'Q37_B_Part_7', 'Q37_B_OTHER', 'Q38_B_Part_1', 'Q38_B_Part_2', 'Q38_B_Part_3', 'Q38_B_Part_4', 'Q38_B_Part_5', 'Q38_B_Part_6', 'Q38_B_Part_7', 'Q38_B_Part_9', 'Q38_B_Part_11', 'Q38_B_OTHER']\n"
          ]
        }
      ]
    },
    {
      "cell_type": "code",
      "source": [
        "df.head()\n"
      ],
      "metadata": {
        "colab": {
          "base_uri": "https://localhost:8080/",
          "height": 533
        },
        "id": "sUEeswqYgav-",
        "outputId": "abc9f7ae-c9b8-4147-a74f-93dd41ff91f3"
      },
      "execution_count": 8,
      "outputs": [
        {
          "output_type": "execute_result",
          "data": {
            "text/plain": [
              "      - Time from Start to Finish (seconds)                           Q1  \\\n",
              "0  Year               Duration (in seconds)  What is your age (# years)?   \n",
              "1  2021                                 910                        50-54   \n",
              "2  2021                                 784                        50-54   \n",
              "3  2021                                 924                        22-24   \n",
              "4  2021                                 575                        45-49   \n",
              "\n",
              "                                       Q2  \\\n",
              "0  What is your gender? - Selected Choice   \n",
              "1                                     Man   \n",
              "2                                     Man   \n",
              "3                                     Man   \n",
              "4                                     Man   \n",
              "\n",
              "                                          Q3  \\\n",
              "0  In which country do you currently reside?   \n",
              "1                                      India   \n",
              "2                                  Indonesia   \n",
              "3                                   Pakistan   \n",
              "4                                     Mexico   \n",
              "\n",
              "                                                  Q4  \\\n",
              "0  What is the highest level of formal education ...   \n",
              "1                                Bachelorâ€™s degree   \n",
              "2                                  Masterâ€™s degree   \n",
              "3                                  Masterâ€™s degree   \n",
              "4                                    Doctoral degree   \n",
              "\n",
              "                                                  Q5  \\\n",
              "0  Select the title most similar to your current ...   \n",
              "1                                              Other   \n",
              "2                            Program/Project Manager   \n",
              "3                                  Software Engineer   \n",
              "4                                 Research Scientist   \n",
              "\n",
              "                                                  Q6  \\\n",
              "0  For how many years have you been writing code ...   \n",
              "1                                         5-10 years   \n",
              "2                                          20+ years   \n",
              "3                                          1-3 years   \n",
              "4                                          20+ years   \n",
              "\n",
              "                                           Q7_Part_1  \\\n",
              "0  What programming languages do you use on a reg...   \n",
              "1                                             Python   \n",
              "2                                                NaN   \n",
              "3                                             Python   \n",
              "4                                             Python   \n",
              "\n",
              "                                           Q7_Part_2  ...  \\\n",
              "0  What programming languages do you use on a reg...  ...   \n",
              "1                                                  R  ...   \n",
              "2                                                NaN  ...   \n",
              "3                                                NaN  ...   \n",
              "4                                                NaN  ...   \n",
              "\n",
              "                                        Q38_B_Part_1  \\\n",
              "0  In the next 2 years, do you hope to become mor...   \n",
              "1                                                NaN   \n",
              "2                                                NaN   \n",
              "3                                                NaN   \n",
              "4                                                NaN   \n",
              "\n",
              "                                        Q38_B_Part_2  \\\n",
              "0  In the next 2 years, do you hope to become mor...   \n",
              "1                                                NaN   \n",
              "2                                                NaN   \n",
              "3                                                NaN   \n",
              "4                                                NaN   \n",
              "\n",
              "                                        Q38_B_Part_3  \\\n",
              "0  In the next 2 years, do you hope to become mor...   \n",
              "1                                                NaN   \n",
              "2                                                NaN   \n",
              "3                                                NaN   \n",
              "4                                                NaN   \n",
              "\n",
              "                                        Q38_B_Part_4  \\\n",
              "0  In the next 2 years, do you hope to become mor...   \n",
              "1                                                NaN   \n",
              "2                                                NaN   \n",
              "3                                                NaN   \n",
              "4                                                NaN   \n",
              "\n",
              "                                        Q38_B_Part_5  \\\n",
              "0  In the next 2 years, do you hope to become mor...   \n",
              "1                                                NaN   \n",
              "2                                                NaN   \n",
              "3                                       TensorBoard    \n",
              "4                                                NaN   \n",
              "\n",
              "                                        Q38_B_Part_6  \\\n",
              "0  In the next 2 years, do you hope to become mor...   \n",
              "1                                                NaN   \n",
              "2                                                NaN   \n",
              "3                                                NaN   \n",
              "4                                                NaN   \n",
              "\n",
              "                                        Q38_B_Part_7  \\\n",
              "0  In the next 2 years, do you hope to become mor...   \n",
              "1                                                NaN   \n",
              "2                                                NaN   \n",
              "3                                                NaN   \n",
              "4                                                NaN   \n",
              "\n",
              "                                        Q38_B_Part_9  \\\n",
              "0  In the next 2 years, do you hope to become mor...   \n",
              "1                                                NaN   \n",
              "2                                                NaN   \n",
              "3                                                NaN   \n",
              "4                                                NaN   \n",
              "\n",
              "                                       Q38_B_Part_11  \\\n",
              "0  In the next 2 years, do you hope to become mor...   \n",
              "1                                                NaN   \n",
              "2                                                NaN   \n",
              "3                                                NaN   \n",
              "4                                                NaN   \n",
              "\n",
              "                                         Q38_B_OTHER  \n",
              "0  In the next 2 years, do you hope to become mor...  \n",
              "1                                                NaN  \n",
              "2                                                NaN  \n",
              "3                                                NaN  \n",
              "4                                                NaN  \n",
              "\n",
              "[5 rows x 293 columns]"
            ],
            "text/html": [
              "\n",
              "  <div id=\"df-69ef9774-890e-4e51-adff-ef9d6c665287\" class=\"colab-df-container\">\n",
              "    <div>\n",
              "<style scoped>\n",
              "    .dataframe tbody tr th:only-of-type {\n",
              "        vertical-align: middle;\n",
              "    }\n",
              "\n",
              "    .dataframe tbody tr th {\n",
              "        vertical-align: top;\n",
              "    }\n",
              "\n",
              "    .dataframe thead th {\n",
              "        text-align: right;\n",
              "    }\n",
              "</style>\n",
              "<table border=\"1\" class=\"dataframe\">\n",
              "  <thead>\n",
              "    <tr style=\"text-align: right;\">\n",
              "      <th></th>\n",
              "      <th>-</th>\n",
              "      <th>Time from Start to Finish (seconds)</th>\n",
              "      <th>Q1</th>\n",
              "      <th>Q2</th>\n",
              "      <th>Q3</th>\n",
              "      <th>Q4</th>\n",
              "      <th>Q5</th>\n",
              "      <th>Q6</th>\n",
              "      <th>Q7_Part_1</th>\n",
              "      <th>Q7_Part_2</th>\n",
              "      <th>...</th>\n",
              "      <th>Q38_B_Part_1</th>\n",
              "      <th>Q38_B_Part_2</th>\n",
              "      <th>Q38_B_Part_3</th>\n",
              "      <th>Q38_B_Part_4</th>\n",
              "      <th>Q38_B_Part_5</th>\n",
              "      <th>Q38_B_Part_6</th>\n",
              "      <th>Q38_B_Part_7</th>\n",
              "      <th>Q38_B_Part_9</th>\n",
              "      <th>Q38_B_Part_11</th>\n",
              "      <th>Q38_B_OTHER</th>\n",
              "    </tr>\n",
              "  </thead>\n",
              "  <tbody>\n",
              "    <tr>\n",
              "      <th>0</th>\n",
              "      <td>Year</td>\n",
              "      <td>Duration (in seconds)</td>\n",
              "      <td>What is your age (# years)?</td>\n",
              "      <td>What is your gender? - Selected Choice</td>\n",
              "      <td>In which country do you currently reside?</td>\n",
              "      <td>What is the highest level of formal education ...</td>\n",
              "      <td>Select the title most similar to your current ...</td>\n",
              "      <td>For how many years have you been writing code ...</td>\n",
              "      <td>What programming languages do you use on a reg...</td>\n",
              "      <td>What programming languages do you use on a reg...</td>\n",
              "      <td>...</td>\n",
              "      <td>In the next 2 years, do you hope to become mor...</td>\n",
              "      <td>In the next 2 years, do you hope to become mor...</td>\n",
              "      <td>In the next 2 years, do you hope to become mor...</td>\n",
              "      <td>In the next 2 years, do you hope to become mor...</td>\n",
              "      <td>In the next 2 years, do you hope to become mor...</td>\n",
              "      <td>In the next 2 years, do you hope to become mor...</td>\n",
              "      <td>In the next 2 years, do you hope to become mor...</td>\n",
              "      <td>In the next 2 years, do you hope to become mor...</td>\n",
              "      <td>In the next 2 years, do you hope to become mor...</td>\n",
              "      <td>In the next 2 years, do you hope to become mor...</td>\n",
              "    </tr>\n",
              "    <tr>\n",
              "      <th>1</th>\n",
              "      <td>2021</td>\n",
              "      <td>910</td>\n",
              "      <td>50-54</td>\n",
              "      <td>Man</td>\n",
              "      <td>India</td>\n",
              "      <td>Bachelorâ€™s degree</td>\n",
              "      <td>Other</td>\n",
              "      <td>5-10 years</td>\n",
              "      <td>Python</td>\n",
              "      <td>R</td>\n",
              "      <td>...</td>\n",
              "      <td>NaN</td>\n",
              "      <td>NaN</td>\n",
              "      <td>NaN</td>\n",
              "      <td>NaN</td>\n",
              "      <td>NaN</td>\n",
              "      <td>NaN</td>\n",
              "      <td>NaN</td>\n",
              "      <td>NaN</td>\n",
              "      <td>NaN</td>\n",
              "      <td>NaN</td>\n",
              "    </tr>\n",
              "    <tr>\n",
              "      <th>2</th>\n",
              "      <td>2021</td>\n",
              "      <td>784</td>\n",
              "      <td>50-54</td>\n",
              "      <td>Man</td>\n",
              "      <td>Indonesia</td>\n",
              "      <td>Masterâ€™s degree</td>\n",
              "      <td>Program/Project Manager</td>\n",
              "      <td>20+ years</td>\n",
              "      <td>NaN</td>\n",
              "      <td>NaN</td>\n",
              "      <td>...</td>\n",
              "      <td>NaN</td>\n",
              "      <td>NaN</td>\n",
              "      <td>NaN</td>\n",
              "      <td>NaN</td>\n",
              "      <td>NaN</td>\n",
              "      <td>NaN</td>\n",
              "      <td>NaN</td>\n",
              "      <td>NaN</td>\n",
              "      <td>NaN</td>\n",
              "      <td>NaN</td>\n",
              "    </tr>\n",
              "    <tr>\n",
              "      <th>3</th>\n",
              "      <td>2021</td>\n",
              "      <td>924</td>\n",
              "      <td>22-24</td>\n",
              "      <td>Man</td>\n",
              "      <td>Pakistan</td>\n",
              "      <td>Masterâ€™s degree</td>\n",
              "      <td>Software Engineer</td>\n",
              "      <td>1-3 years</td>\n",
              "      <td>Python</td>\n",
              "      <td>NaN</td>\n",
              "      <td>...</td>\n",
              "      <td>NaN</td>\n",
              "      <td>NaN</td>\n",
              "      <td>NaN</td>\n",
              "      <td>NaN</td>\n",
              "      <td>TensorBoard</td>\n",
              "      <td>NaN</td>\n",
              "      <td>NaN</td>\n",
              "      <td>NaN</td>\n",
              "      <td>NaN</td>\n",
              "      <td>NaN</td>\n",
              "    </tr>\n",
              "    <tr>\n",
              "      <th>4</th>\n",
              "      <td>2021</td>\n",
              "      <td>575</td>\n",
              "      <td>45-49</td>\n",
              "      <td>Man</td>\n",
              "      <td>Mexico</td>\n",
              "      <td>Doctoral degree</td>\n",
              "      <td>Research Scientist</td>\n",
              "      <td>20+ years</td>\n",
              "      <td>Python</td>\n",
              "      <td>NaN</td>\n",
              "      <td>...</td>\n",
              "      <td>NaN</td>\n",
              "      <td>NaN</td>\n",
              "      <td>NaN</td>\n",
              "      <td>NaN</td>\n",
              "      <td>NaN</td>\n",
              "      <td>NaN</td>\n",
              "      <td>NaN</td>\n",
              "      <td>NaN</td>\n",
              "      <td>NaN</td>\n",
              "      <td>NaN</td>\n",
              "    </tr>\n",
              "  </tbody>\n",
              "</table>\n",
              "<p>5 rows × 293 columns</p>\n",
              "</div>\n",
              "    <div class=\"colab-df-buttons\">\n",
              "\n",
              "  <div class=\"colab-df-container\">\n",
              "    <button class=\"colab-df-convert\" onclick=\"convertToInteractive('df-69ef9774-890e-4e51-adff-ef9d6c665287')\"\n",
              "            title=\"Convert this dataframe to an interactive table.\"\n",
              "            style=\"display:none;\">\n",
              "\n",
              "  <svg xmlns=\"http://www.w3.org/2000/svg\" height=\"24px\" viewBox=\"0 -960 960 960\">\n",
              "    <path d=\"M120-120v-720h720v720H120Zm60-500h600v-160H180v160Zm220 220h160v-160H400v160Zm0 220h160v-160H400v160ZM180-400h160v-160H180v160Zm440 0h160v-160H620v160ZM180-180h160v-160H180v160Zm440 0h160v-160H620v160Z\"/>\n",
              "  </svg>\n",
              "    </button>\n",
              "\n",
              "  <style>\n",
              "    .colab-df-container {\n",
              "      display:flex;\n",
              "      gap: 12px;\n",
              "    }\n",
              "\n",
              "    .colab-df-convert {\n",
              "      background-color: #E8F0FE;\n",
              "      border: none;\n",
              "      border-radius: 50%;\n",
              "      cursor: pointer;\n",
              "      display: none;\n",
              "      fill: #1967D2;\n",
              "      height: 32px;\n",
              "      padding: 0 0 0 0;\n",
              "      width: 32px;\n",
              "    }\n",
              "\n",
              "    .colab-df-convert:hover {\n",
              "      background-color: #E2EBFA;\n",
              "      box-shadow: 0px 1px 2px rgba(60, 64, 67, 0.3), 0px 1px 3px 1px rgba(60, 64, 67, 0.15);\n",
              "      fill: #174EA6;\n",
              "    }\n",
              "\n",
              "    .colab-df-buttons div {\n",
              "      margin-bottom: 4px;\n",
              "    }\n",
              "\n",
              "    [theme=dark] .colab-df-convert {\n",
              "      background-color: #3B4455;\n",
              "      fill: #D2E3FC;\n",
              "    }\n",
              "\n",
              "    [theme=dark] .colab-df-convert:hover {\n",
              "      background-color: #434B5C;\n",
              "      box-shadow: 0px 1px 3px 1px rgba(0, 0, 0, 0.15);\n",
              "      filter: drop-shadow(0px 1px 2px rgba(0, 0, 0, 0.3));\n",
              "      fill: #FFFFFF;\n",
              "    }\n",
              "  </style>\n",
              "\n",
              "    <script>\n",
              "      const buttonEl =\n",
              "        document.querySelector('#df-69ef9774-890e-4e51-adff-ef9d6c665287 button.colab-df-convert');\n",
              "      buttonEl.style.display =\n",
              "        google.colab.kernel.accessAllowed ? 'block' : 'none';\n",
              "\n",
              "      async function convertToInteractive(key) {\n",
              "        const element = document.querySelector('#df-69ef9774-890e-4e51-adff-ef9d6c665287');\n",
              "        const dataTable =\n",
              "          await google.colab.kernel.invokeFunction('convertToInteractive',\n",
              "                                                    [key], {});\n",
              "        if (!dataTable) return;\n",
              "\n",
              "        const docLinkHtml = 'Like what you see? Visit the ' +\n",
              "          '<a target=\"_blank\" href=https://colab.research.google.com/notebooks/data_table.ipynb>data table notebook</a>'\n",
              "          + ' to learn more about interactive tables.';\n",
              "        element.innerHTML = '';\n",
              "        dataTable['output_type'] = 'display_data';\n",
              "        await google.colab.output.renderOutput(dataTable, element);\n",
              "        const docLink = document.createElement('div');\n",
              "        docLink.innerHTML = docLinkHtml;\n",
              "        element.appendChild(docLink);\n",
              "      }\n",
              "    </script>\n",
              "  </div>\n",
              "\n",
              "\n",
              "    <div id=\"df-6133ec0a-6b75-4b39-944e-dbda51272172\">\n",
              "      <button class=\"colab-df-quickchart\" onclick=\"quickchart('df-6133ec0a-6b75-4b39-944e-dbda51272172')\"\n",
              "                title=\"Suggest charts\"\n",
              "                style=\"display:none;\">\n",
              "\n",
              "<svg xmlns=\"http://www.w3.org/2000/svg\" height=\"24px\"viewBox=\"0 0 24 24\"\n",
              "     width=\"24px\">\n",
              "    <g>\n",
              "        <path d=\"M19 3H5c-1.1 0-2 .9-2 2v14c0 1.1.9 2 2 2h14c1.1 0 2-.9 2-2V5c0-1.1-.9-2-2-2zM9 17H7v-7h2v7zm4 0h-2V7h2v10zm4 0h-2v-4h2v4z\"/>\n",
              "    </g>\n",
              "</svg>\n",
              "      </button>\n",
              "\n",
              "<style>\n",
              "  .colab-df-quickchart {\n",
              "      --bg-color: #E8F0FE;\n",
              "      --fill-color: #1967D2;\n",
              "      --hover-bg-color: #E2EBFA;\n",
              "      --hover-fill-color: #174EA6;\n",
              "      --disabled-fill-color: #AAA;\n",
              "      --disabled-bg-color: #DDD;\n",
              "  }\n",
              "\n",
              "  [theme=dark] .colab-df-quickchart {\n",
              "      --bg-color: #3B4455;\n",
              "      --fill-color: #D2E3FC;\n",
              "      --hover-bg-color: #434B5C;\n",
              "      --hover-fill-color: #FFFFFF;\n",
              "      --disabled-bg-color: #3B4455;\n",
              "      --disabled-fill-color: #666;\n",
              "  }\n",
              "\n",
              "  .colab-df-quickchart {\n",
              "    background-color: var(--bg-color);\n",
              "    border: none;\n",
              "    border-radius: 50%;\n",
              "    cursor: pointer;\n",
              "    display: none;\n",
              "    fill: var(--fill-color);\n",
              "    height: 32px;\n",
              "    padding: 0;\n",
              "    width: 32px;\n",
              "  }\n",
              "\n",
              "  .colab-df-quickchart:hover {\n",
              "    background-color: var(--hover-bg-color);\n",
              "    box-shadow: 0 1px 2px rgba(60, 64, 67, 0.3), 0 1px 3px 1px rgba(60, 64, 67, 0.15);\n",
              "    fill: var(--button-hover-fill-color);\n",
              "  }\n",
              "\n",
              "  .colab-df-quickchart-complete:disabled,\n",
              "  .colab-df-quickchart-complete:disabled:hover {\n",
              "    background-color: var(--disabled-bg-color);\n",
              "    fill: var(--disabled-fill-color);\n",
              "    box-shadow: none;\n",
              "  }\n",
              "\n",
              "  .colab-df-spinner {\n",
              "    border: 2px solid var(--fill-color);\n",
              "    border-color: transparent;\n",
              "    border-bottom-color: var(--fill-color);\n",
              "    animation:\n",
              "      spin 1s steps(1) infinite;\n",
              "  }\n",
              "\n",
              "  @keyframes spin {\n",
              "    0% {\n",
              "      border-color: transparent;\n",
              "      border-bottom-color: var(--fill-color);\n",
              "      border-left-color: var(--fill-color);\n",
              "    }\n",
              "    20% {\n",
              "      border-color: transparent;\n",
              "      border-left-color: var(--fill-color);\n",
              "      border-top-color: var(--fill-color);\n",
              "    }\n",
              "    30% {\n",
              "      border-color: transparent;\n",
              "      border-left-color: var(--fill-color);\n",
              "      border-top-color: var(--fill-color);\n",
              "      border-right-color: var(--fill-color);\n",
              "    }\n",
              "    40% {\n",
              "      border-color: transparent;\n",
              "      border-right-color: var(--fill-color);\n",
              "      border-top-color: var(--fill-color);\n",
              "    }\n",
              "    60% {\n",
              "      border-color: transparent;\n",
              "      border-right-color: var(--fill-color);\n",
              "    }\n",
              "    80% {\n",
              "      border-color: transparent;\n",
              "      border-right-color: var(--fill-color);\n",
              "      border-bottom-color: var(--fill-color);\n",
              "    }\n",
              "    90% {\n",
              "      border-color: transparent;\n",
              "      border-bottom-color: var(--fill-color);\n",
              "    }\n",
              "  }\n",
              "</style>\n",
              "\n",
              "      <script>\n",
              "        async function quickchart(key) {\n",
              "          const quickchartButtonEl =\n",
              "            document.querySelector('#' + key + ' button');\n",
              "          quickchartButtonEl.disabled = true;  // To prevent multiple clicks.\n",
              "          quickchartButtonEl.classList.add('colab-df-spinner');\n",
              "          try {\n",
              "            const charts = await google.colab.kernel.invokeFunction(\n",
              "                'suggestCharts', [key], {});\n",
              "          } catch (error) {\n",
              "            console.error('Error during call to suggestCharts:', error);\n",
              "          }\n",
              "          quickchartButtonEl.classList.remove('colab-df-spinner');\n",
              "          quickchartButtonEl.classList.add('colab-df-quickchart-complete');\n",
              "        }\n",
              "        (() => {\n",
              "          let quickchartButtonEl =\n",
              "            document.querySelector('#df-6133ec0a-6b75-4b39-944e-dbda51272172 button');\n",
              "          quickchartButtonEl.style.display =\n",
              "            google.colab.kernel.accessAllowed ? 'block' : 'none';\n",
              "        })();\n",
              "      </script>\n",
              "    </div>\n",
              "\n",
              "    </div>\n",
              "  </div>\n"
            ],
            "application/vnd.google.colaboratory.intrinsic+json": {
              "type": "dataframe",
              "variable_name": "df"
            }
          },
          "metadata": {},
          "execution_count": 8
        }
      ]
    },
    {
      "cell_type": "code",
      "source": [
        "missing = df.isnull().sum().sort_values(ascending=False)\n",
        "missing_percent = (df.isnull().mean() * 100).sort_values(ascending=False)\n",
        "\n",
        "missing_df = pd.DataFrame({\n",
        "    'Missing Values': missing,\n",
        "    'Percent': missing_percent\n",
        "})\n",
        "\n",
        "print(missing_df.head(20))  # top 20 columns with most missing values\n"
      ],
      "metadata": {
        "colab": {
          "base_uri": "https://localhost:8080/"
        },
        "id": "L-1xvZjEgmtq",
        "outputId": "37816611-14fb-4686-e4f2-e191e39afe12"
      },
      "execution_count": 9,
      "outputs": [
        {
          "output_type": "stream",
          "name": "stdout",
          "text": [
            "               Missing Values    Percent\n",
            "Q38_B_Part_11           34108  99.997068\n",
            "Q34_B_Part_16           34108  99.997068\n",
            "Q10_Part_16             34108  99.997068\n",
            "Q9_Part_12              34108  99.997068\n",
            "Q7_Part_12              34108  99.997068\n",
            "Q12new                  34108  99.997068\n",
            "Q14_Part_11             34108  99.997068\n",
            "Q19_Part_5              34108  99.997068\n",
            "Q17_Part_11             34108  99.997068\n",
            "Q32_B_Part_20           34108  99.997068\n",
            "Q16_Part_17             34108  99.997068\n",
            "Q12_Part_5              34108  99.997068\n",
            "Q18_Part_6              34108  99.997068\n",
            "Q27_B_Part_11           34108  99.997068\n",
            "Q37_B_Part_7            34108  99.997068\n",
            "Q40_Part_11             34108  99.997068\n",
            "Q36_B_Part_7            34108  99.997068\n",
            "Q34_A_Part_16           34108  99.997068\n",
            "Q27_A_Part_11           34108  99.997068\n",
            "Q32_A_Part_20           34108  99.997068\n"
          ]
        }
      ]
    },
    {
      "cell_type": "code",
      "source": [
        "df.info()\n",
        "\n",
        "\n",
        "df.describe()\n"
      ],
      "metadata": {
        "colab": {
          "base_uri": "https://localhost:8080/",
          "height": 415
        },
        "id": "UZ25N_9NgpjW",
        "outputId": "96f7efa2-a0d4-472d-cafc-248c2fc71315"
      },
      "execution_count": 10,
      "outputs": [
        {
          "output_type": "stream",
          "name": "stdout",
          "text": [
            "<class 'pandas.core.frame.DataFrame'>\n",
            "RangeIndex: 34109 entries, 0 to 34108\n",
            "Columns: 293 entries, - to Q38_B_OTHER\n",
            "dtypes: object(293)\n",
            "memory usage: 76.2+ MB\n"
          ]
        },
        {
          "output_type": "execute_result",
          "data": {
            "text/plain": [
              "            -  Time from Start to Finish (seconds)     Q1     Q2     Q3  \\\n",
              "count   34109                                34109  34109  34109  34109   \n",
              "unique      4                                 6369     12      6     68   \n",
              "top      2021                                  484  25-29    Man  India   \n",
              "freq    23926                                   52   6596  27019   9868   \n",
              "\n",
              "                       Q4       Q5         Q6 Q7_Part_1 Q7_Part_2  ...  \\\n",
              "count               33911    33785      33712     28192      7017  ...   \n",
              "unique                  9       17          9         2         2  ...   \n",
              "top     Masterâ€™s degree  Student  1-3 years    Python         R  ...   \n",
              "freq                13303     8908       7874     28191      7016  ...   \n",
              "\n",
              "        Q38_B_Part_1        Q38_B_Part_2 Q38_B_Part_3          Q38_B_Part_4  \\\n",
              "count           1653                2071          827                   761   \n",
              "unique             2                   2            2                     2   \n",
              "top      Neptune.ai    Weights & Biases     Comet.ml    Sacred + Omniboard    \n",
              "freq            1652                2070          826                   760   \n",
              "\n",
              "         Q38_B_Part_5 Q38_B_Part_6 Q38_B_Part_7            Q38_B_Part_9  \\\n",
              "count            5559          958          940                     883   \n",
              "unique              2            2            2                       2   \n",
              "top      TensorBoard     Guild.ai     Polyaxon    Domino Model Monitor    \n",
              "freq             5558          957          939                     882   \n",
              "\n",
              "                                            Q38_B_Part_11 Q38_B_OTHER  \n",
              "count                                                   1         487  \n",
              "unique                                                  1           2  \n",
              "top     In the next 2 years, do you hope to become mor...       Other  \n",
              "freq                                                    1         486  \n",
              "\n",
              "[4 rows x 293 columns]"
            ],
            "text/html": [
              "\n",
              "  <div id=\"df-e586ba7d-bc9d-4601-9e91-7d96c45a3e36\" class=\"colab-df-container\">\n",
              "    <div>\n",
              "<style scoped>\n",
              "    .dataframe tbody tr th:only-of-type {\n",
              "        vertical-align: middle;\n",
              "    }\n",
              "\n",
              "    .dataframe tbody tr th {\n",
              "        vertical-align: top;\n",
              "    }\n",
              "\n",
              "    .dataframe thead th {\n",
              "        text-align: right;\n",
              "    }\n",
              "</style>\n",
              "<table border=\"1\" class=\"dataframe\">\n",
              "  <thead>\n",
              "    <tr style=\"text-align: right;\">\n",
              "      <th></th>\n",
              "      <th>-</th>\n",
              "      <th>Time from Start to Finish (seconds)</th>\n",
              "      <th>Q1</th>\n",
              "      <th>Q2</th>\n",
              "      <th>Q3</th>\n",
              "      <th>Q4</th>\n",
              "      <th>Q5</th>\n",
              "      <th>Q6</th>\n",
              "      <th>Q7_Part_1</th>\n",
              "      <th>Q7_Part_2</th>\n",
              "      <th>...</th>\n",
              "      <th>Q38_B_Part_1</th>\n",
              "      <th>Q38_B_Part_2</th>\n",
              "      <th>Q38_B_Part_3</th>\n",
              "      <th>Q38_B_Part_4</th>\n",
              "      <th>Q38_B_Part_5</th>\n",
              "      <th>Q38_B_Part_6</th>\n",
              "      <th>Q38_B_Part_7</th>\n",
              "      <th>Q38_B_Part_9</th>\n",
              "      <th>Q38_B_Part_11</th>\n",
              "      <th>Q38_B_OTHER</th>\n",
              "    </tr>\n",
              "  </thead>\n",
              "  <tbody>\n",
              "    <tr>\n",
              "      <th>count</th>\n",
              "      <td>34109</td>\n",
              "      <td>34109</td>\n",
              "      <td>34109</td>\n",
              "      <td>34109</td>\n",
              "      <td>34109</td>\n",
              "      <td>33911</td>\n",
              "      <td>33785</td>\n",
              "      <td>33712</td>\n",
              "      <td>28192</td>\n",
              "      <td>7017</td>\n",
              "      <td>...</td>\n",
              "      <td>1653</td>\n",
              "      <td>2071</td>\n",
              "      <td>827</td>\n",
              "      <td>761</td>\n",
              "      <td>5559</td>\n",
              "      <td>958</td>\n",
              "      <td>940</td>\n",
              "      <td>883</td>\n",
              "      <td>1</td>\n",
              "      <td>487</td>\n",
              "    </tr>\n",
              "    <tr>\n",
              "      <th>unique</th>\n",
              "      <td>4</td>\n",
              "      <td>6369</td>\n",
              "      <td>12</td>\n",
              "      <td>6</td>\n",
              "      <td>68</td>\n",
              "      <td>9</td>\n",
              "      <td>17</td>\n",
              "      <td>9</td>\n",
              "      <td>2</td>\n",
              "      <td>2</td>\n",
              "      <td>...</td>\n",
              "      <td>2</td>\n",
              "      <td>2</td>\n",
              "      <td>2</td>\n",
              "      <td>2</td>\n",
              "      <td>2</td>\n",
              "      <td>2</td>\n",
              "      <td>2</td>\n",
              "      <td>2</td>\n",
              "      <td>1</td>\n",
              "      <td>2</td>\n",
              "    </tr>\n",
              "    <tr>\n",
              "      <th>top</th>\n",
              "      <td>2021</td>\n",
              "      <td>484</td>\n",
              "      <td>25-29</td>\n",
              "      <td>Man</td>\n",
              "      <td>India</td>\n",
              "      <td>Masterâ€™s degree</td>\n",
              "      <td>Student</td>\n",
              "      <td>1-3 years</td>\n",
              "      <td>Python</td>\n",
              "      <td>R</td>\n",
              "      <td>...</td>\n",
              "      <td>Neptune.ai</td>\n",
              "      <td>Weights &amp; Biases</td>\n",
              "      <td>Comet.ml</td>\n",
              "      <td>Sacred + Omniboard</td>\n",
              "      <td>TensorBoard</td>\n",
              "      <td>Guild.ai</td>\n",
              "      <td>Polyaxon</td>\n",
              "      <td>Domino Model Monitor</td>\n",
              "      <td>In the next 2 years, do you hope to become mor...</td>\n",
              "      <td>Other</td>\n",
              "    </tr>\n",
              "    <tr>\n",
              "      <th>freq</th>\n",
              "      <td>23926</td>\n",
              "      <td>52</td>\n",
              "      <td>6596</td>\n",
              "      <td>27019</td>\n",
              "      <td>9868</td>\n",
              "      <td>13303</td>\n",
              "      <td>8908</td>\n",
              "      <td>7874</td>\n",
              "      <td>28191</td>\n",
              "      <td>7016</td>\n",
              "      <td>...</td>\n",
              "      <td>1652</td>\n",
              "      <td>2070</td>\n",
              "      <td>826</td>\n",
              "      <td>760</td>\n",
              "      <td>5558</td>\n",
              "      <td>957</td>\n",
              "      <td>939</td>\n",
              "      <td>882</td>\n",
              "      <td>1</td>\n",
              "      <td>486</td>\n",
              "    </tr>\n",
              "  </tbody>\n",
              "</table>\n",
              "<p>4 rows × 293 columns</p>\n",
              "</div>\n",
              "    <div class=\"colab-df-buttons\">\n",
              "\n",
              "  <div class=\"colab-df-container\">\n",
              "    <button class=\"colab-df-convert\" onclick=\"convertToInteractive('df-e586ba7d-bc9d-4601-9e91-7d96c45a3e36')\"\n",
              "            title=\"Convert this dataframe to an interactive table.\"\n",
              "            style=\"display:none;\">\n",
              "\n",
              "  <svg xmlns=\"http://www.w3.org/2000/svg\" height=\"24px\" viewBox=\"0 -960 960 960\">\n",
              "    <path d=\"M120-120v-720h720v720H120Zm60-500h600v-160H180v160Zm220 220h160v-160H400v160Zm0 220h160v-160H400v160ZM180-400h160v-160H180v160Zm440 0h160v-160H620v160ZM180-180h160v-160H180v160Zm440 0h160v-160H620v160Z\"/>\n",
              "  </svg>\n",
              "    </button>\n",
              "\n",
              "  <style>\n",
              "    .colab-df-container {\n",
              "      display:flex;\n",
              "      gap: 12px;\n",
              "    }\n",
              "\n",
              "    .colab-df-convert {\n",
              "      background-color: #E8F0FE;\n",
              "      border: none;\n",
              "      border-radius: 50%;\n",
              "      cursor: pointer;\n",
              "      display: none;\n",
              "      fill: #1967D2;\n",
              "      height: 32px;\n",
              "      padding: 0 0 0 0;\n",
              "      width: 32px;\n",
              "    }\n",
              "\n",
              "    .colab-df-convert:hover {\n",
              "      background-color: #E2EBFA;\n",
              "      box-shadow: 0px 1px 2px rgba(60, 64, 67, 0.3), 0px 1px 3px 1px rgba(60, 64, 67, 0.15);\n",
              "      fill: #174EA6;\n",
              "    }\n",
              "\n",
              "    .colab-df-buttons div {\n",
              "      margin-bottom: 4px;\n",
              "    }\n",
              "\n",
              "    [theme=dark] .colab-df-convert {\n",
              "      background-color: #3B4455;\n",
              "      fill: #D2E3FC;\n",
              "    }\n",
              "\n",
              "    [theme=dark] .colab-df-convert:hover {\n",
              "      background-color: #434B5C;\n",
              "      box-shadow: 0px 1px 3px 1px rgba(0, 0, 0, 0.15);\n",
              "      filter: drop-shadow(0px 1px 2px rgba(0, 0, 0, 0.3));\n",
              "      fill: #FFFFFF;\n",
              "    }\n",
              "  </style>\n",
              "\n",
              "    <script>\n",
              "      const buttonEl =\n",
              "        document.querySelector('#df-e586ba7d-bc9d-4601-9e91-7d96c45a3e36 button.colab-df-convert');\n",
              "      buttonEl.style.display =\n",
              "        google.colab.kernel.accessAllowed ? 'block' : 'none';\n",
              "\n",
              "      async function convertToInteractive(key) {\n",
              "        const element = document.querySelector('#df-e586ba7d-bc9d-4601-9e91-7d96c45a3e36');\n",
              "        const dataTable =\n",
              "          await google.colab.kernel.invokeFunction('convertToInteractive',\n",
              "                                                    [key], {});\n",
              "        if (!dataTable) return;\n",
              "\n",
              "        const docLinkHtml = 'Like what you see? Visit the ' +\n",
              "          '<a target=\"_blank\" href=https://colab.research.google.com/notebooks/data_table.ipynb>data table notebook</a>'\n",
              "          + ' to learn more about interactive tables.';\n",
              "        element.innerHTML = '';\n",
              "        dataTable['output_type'] = 'display_data';\n",
              "        await google.colab.output.renderOutput(dataTable, element);\n",
              "        const docLink = document.createElement('div');\n",
              "        docLink.innerHTML = docLinkHtml;\n",
              "        element.appendChild(docLink);\n",
              "      }\n",
              "    </script>\n",
              "  </div>\n",
              "\n",
              "\n",
              "    <div id=\"df-5564cc67-879f-4d52-9c35-9a812214d4b6\">\n",
              "      <button class=\"colab-df-quickchart\" onclick=\"quickchart('df-5564cc67-879f-4d52-9c35-9a812214d4b6')\"\n",
              "                title=\"Suggest charts\"\n",
              "                style=\"display:none;\">\n",
              "\n",
              "<svg xmlns=\"http://www.w3.org/2000/svg\" height=\"24px\"viewBox=\"0 0 24 24\"\n",
              "     width=\"24px\">\n",
              "    <g>\n",
              "        <path d=\"M19 3H5c-1.1 0-2 .9-2 2v14c0 1.1.9 2 2 2h14c1.1 0 2-.9 2-2V5c0-1.1-.9-2-2-2zM9 17H7v-7h2v7zm4 0h-2V7h2v10zm4 0h-2v-4h2v4z\"/>\n",
              "    </g>\n",
              "</svg>\n",
              "      </button>\n",
              "\n",
              "<style>\n",
              "  .colab-df-quickchart {\n",
              "      --bg-color: #E8F0FE;\n",
              "      --fill-color: #1967D2;\n",
              "      --hover-bg-color: #E2EBFA;\n",
              "      --hover-fill-color: #174EA6;\n",
              "      --disabled-fill-color: #AAA;\n",
              "      --disabled-bg-color: #DDD;\n",
              "  }\n",
              "\n",
              "  [theme=dark] .colab-df-quickchart {\n",
              "      --bg-color: #3B4455;\n",
              "      --fill-color: #D2E3FC;\n",
              "      --hover-bg-color: #434B5C;\n",
              "      --hover-fill-color: #FFFFFF;\n",
              "      --disabled-bg-color: #3B4455;\n",
              "      --disabled-fill-color: #666;\n",
              "  }\n",
              "\n",
              "  .colab-df-quickchart {\n",
              "    background-color: var(--bg-color);\n",
              "    border: none;\n",
              "    border-radius: 50%;\n",
              "    cursor: pointer;\n",
              "    display: none;\n",
              "    fill: var(--fill-color);\n",
              "    height: 32px;\n",
              "    padding: 0;\n",
              "    width: 32px;\n",
              "  }\n",
              "\n",
              "  .colab-df-quickchart:hover {\n",
              "    background-color: var(--hover-bg-color);\n",
              "    box-shadow: 0 1px 2px rgba(60, 64, 67, 0.3), 0 1px 3px 1px rgba(60, 64, 67, 0.15);\n",
              "    fill: var(--button-hover-fill-color);\n",
              "  }\n",
              "\n",
              "  .colab-df-quickchart-complete:disabled,\n",
              "  .colab-df-quickchart-complete:disabled:hover {\n",
              "    background-color: var(--disabled-bg-color);\n",
              "    fill: var(--disabled-fill-color);\n",
              "    box-shadow: none;\n",
              "  }\n",
              "\n",
              "  .colab-df-spinner {\n",
              "    border: 2px solid var(--fill-color);\n",
              "    border-color: transparent;\n",
              "    border-bottom-color: var(--fill-color);\n",
              "    animation:\n",
              "      spin 1s steps(1) infinite;\n",
              "  }\n",
              "\n",
              "  @keyframes spin {\n",
              "    0% {\n",
              "      border-color: transparent;\n",
              "      border-bottom-color: var(--fill-color);\n",
              "      border-left-color: var(--fill-color);\n",
              "    }\n",
              "    20% {\n",
              "      border-color: transparent;\n",
              "      border-left-color: var(--fill-color);\n",
              "      border-top-color: var(--fill-color);\n",
              "    }\n",
              "    30% {\n",
              "      border-color: transparent;\n",
              "      border-left-color: var(--fill-color);\n",
              "      border-top-color: var(--fill-color);\n",
              "      border-right-color: var(--fill-color);\n",
              "    }\n",
              "    40% {\n",
              "      border-color: transparent;\n",
              "      border-right-color: var(--fill-color);\n",
              "      border-top-color: var(--fill-color);\n",
              "    }\n",
              "    60% {\n",
              "      border-color: transparent;\n",
              "      border-right-color: var(--fill-color);\n",
              "    }\n",
              "    80% {\n",
              "      border-color: transparent;\n",
              "      border-right-color: var(--fill-color);\n",
              "      border-bottom-color: var(--fill-color);\n",
              "    }\n",
              "    90% {\n",
              "      border-color: transparent;\n",
              "      border-bottom-color: var(--fill-color);\n",
              "    }\n",
              "  }\n",
              "</style>\n",
              "\n",
              "      <script>\n",
              "        async function quickchart(key) {\n",
              "          const quickchartButtonEl =\n",
              "            document.querySelector('#' + key + ' button');\n",
              "          quickchartButtonEl.disabled = true;  // To prevent multiple clicks.\n",
              "          quickchartButtonEl.classList.add('colab-df-spinner');\n",
              "          try {\n",
              "            const charts = await google.colab.kernel.invokeFunction(\n",
              "                'suggestCharts', [key], {});\n",
              "          } catch (error) {\n",
              "            console.error('Error during call to suggestCharts:', error);\n",
              "          }\n",
              "          quickchartButtonEl.classList.remove('colab-df-spinner');\n",
              "          quickchartButtonEl.classList.add('colab-df-quickchart-complete');\n",
              "        }\n",
              "        (() => {\n",
              "          let quickchartButtonEl =\n",
              "            document.querySelector('#df-5564cc67-879f-4d52-9c35-9a812214d4b6 button');\n",
              "          quickchartButtonEl.style.display =\n",
              "            google.colab.kernel.accessAllowed ? 'block' : 'none';\n",
              "        })();\n",
              "      </script>\n",
              "    </div>\n",
              "\n",
              "    </div>\n",
              "  </div>\n"
            ],
            "application/vnd.google.colaboratory.intrinsic+json": {
              "type": "dataframe"
            }
          },
          "metadata": {},
          "execution_count": 10
        }
      ]
    },
    {
      "cell_type": "code",
      "source": [
        "print(\"\\nAge distribution:\\n\", df['Q1'].value_counts().head(10))\n",
        "print(\"\\nGender distribution:\\n\", df['Q2'].value_counts().head(10))\n",
        "print(\"\\nTop countries:\\n\", df['Q3'].value_counts().head(10))\n",
        "print(\"\\nTop roles:\\n\", df['Q5'].value_counts().head(10))\n"
      ],
      "metadata": {
        "colab": {
          "base_uri": "https://localhost:8080/"
        },
        "id": "FvlPsfIJhE4j",
        "outputId": "217cdc84-1eb3-4c26-a0d1-795ad50af647"
      },
      "execution_count": 11,
      "outputs": [
        {
          "output_type": "stream",
          "name": "stdout",
          "text": [
            "\n",
            "Age distribution:\n",
            " Q1\n",
            "25-29    6596\n",
            "18-21    6316\n",
            "22-24    6253\n",
            "30-34    4579\n",
            "35-39    3270\n",
            "40-44    2444\n",
            "45-49    1783\n",
            "50-54    1243\n",
            "55-59     757\n",
            "60-69     708\n",
            "Name: count, dtype: int64\n",
            "\n",
            "Gender distribution:\n",
            " Q2\n",
            "Man                                       27019\n",
            "Woman                                      6451\n",
            "Prefer not to say                           466\n",
            "Nonbinary                                   106\n",
            "Prefer to self-describe                      66\n",
            "What is your gender? - Selected Choice        1\n",
            "Name: count, dtype: int64\n",
            "\n",
            "Top countries:\n",
            " Q3\n",
            "India                                                   9868\n",
            "United States of America                                3585\n",
            "Other                                                   1813\n",
            "Japan                                                   1188\n",
            "Brazil                                                  1038\n",
            "China                                                   1021\n",
            "Russia                                                   951\n",
            "Nigeria                                                  889\n",
            "United Kingdom of Great Britain and Northern Ireland     732\n",
            "Pakistan                                                 635\n",
            "Name: count, dtype: int64\n",
            "\n",
            "Top roles:\n",
            " Q5\n",
            "Student                      8908\n",
            "Data Scientist               4684\n",
            "Software Engineer            3244\n",
            "Other                        3087\n",
            "Data Analyst                 2897\n",
            "Currently not employed       2684\n",
            "Research Scientist           2002\n",
            "Machine Learning Engineer    1966\n",
            "Business Analyst             1280\n",
            "Data Engineer                 855\n",
            "Name: count, dtype: int64\n"
          ]
        }
      ]
    },
    {
      "cell_type": "markdown",
      "source": [
        "#Data Cleaning\n"
      ],
      "metadata": {
        "id": "-_yKW_xThPw0"
      }
    },
    {
      "cell_type": "code",
      "source": [
        "\n",
        "df = df.drop_duplicates()\n",
        "print(\"Shape after duplicates drop:\", df.shape)"
      ],
      "metadata": {
        "colab": {
          "base_uri": "https://localhost:8080/"
        },
        "id": "ZMSALk-mhPcC",
        "outputId": "dc7b247c-2e04-42b0-ca7c-d068dc75c21b"
      },
      "execution_count": 12,
      "outputs": [
        {
          "output_type": "stream",
          "name": "stdout",
          "text": [
            "Shape after duplicates drop: (34100, 293)\n"
          ]
        }
      ]
    },
    {
      "cell_type": "code",
      "source": [
        "for col in df.columns:\n",
        "    if df[col].dtype == \"object\":\n",
        "        df[col] = df[col].astype(str).str.strip()\n",
        "        df[col] = df[col].replace({\"Â\": \"\", \"â€™\": \"'\", \"Ã±\": \"ñ\"}, regex=True)"
      ],
      "metadata": {
        "id": "ViduA77Dmans"
      },
      "execution_count": 17,
      "outputs": []
    },
    {
      "cell_type": "code",
      "source": [
        "# Drop rows where *almost everything* is missing\n",
        "\n",
        "\n",
        "df = df.dropna(thresh=int(0.3 * len(df.columns)))"
      ],
      "metadata": {
        "id": "IN80czCFmfBT"
      },
      "execution_count": 16,
      "outputs": []
    },
    {
      "cell_type": "code",
      "source": [
        "# Fill categorical NaN with \"Not Answered\"\n",
        "\n",
        "\n",
        "cat_cols = [c for c in df.columns if df[c].dtype == \"object\"]\n",
        "df[cat_cols] = df[cat_cols].fillna(\"Not Answered\")\n",
        "\n",
        "\n",
        "\n",
        "\n",
        "# Fill numeric NaN with median\n",
        "num_cols = [c for c in df.columns if df[c].dtype != \"object\"]\n",
        "for col in num_cols:\n",
        "    df[col] = pd.to_numeric(df[col], errors=\"coerce\")\n",
        "    df[col] = df[col].fillna(df[col].median())\n",
        "\n",
        "\n"
      ],
      "metadata": {
        "id": "iPtQ5JFmm5Vq"
      },
      "execution_count": 19,
      "outputs": []
    },
    {
      "cell_type": "code",
      "source": [
        "\n",
        "\n",
        "# Normalize Country column\n",
        "\n",
        "def clean_country(s):\n",
        "    replacements = {\n",
        "        \"United States of America\": \"United States\",\n",
        "        \"USA\": \"United States\",\n",
        "        \"US\": \"United States\",\n",
        "        \"UK\": \"United Kingdom\",\n",
        "        \"U.K.\": \"United Kingdom\",\n",
        "        \"Viet Nam\": \"Vietnam\",\n",
        "        \"Russian Federation\": \"Russia\",\n",
        "        \"Korea, South\": \"South Korea\",\n",
        "        \"Korea, Republic of\": \"South Korea\"\n",
        "    }\n",
        "    return replacements.get(s, s)\n",
        "\n",
        "if \"Q3\" in df.columns:\n",
        "    df[\"Q3\"] = df[\"Q3\"].apply(clean_country)\n",
        "\n",
        "\n",
        "\n"
      ],
      "metadata": {
        "id": "-IYfbblXqJxQ"
      },
      "execution_count": 22,
      "outputs": []
    },
    {
      "cell_type": "code",
      "source": [
        "\n",
        "df.to_csv(\"kaggle_survey_cleaned_full.csv\", index=False)\n",
        "print(\"✅ Full cleaned dataset saved as kaggle_survey_cleaned_full.csv\")\n",
        "print(\"Final shape:\", df.shape)"
      ],
      "metadata": {
        "colab": {
          "base_uri": "https://localhost:8080/"
        },
        "id": "Zt9XIUKYqQhH",
        "outputId": "afb90302-fb0a-4e2f-f982-e4e50d2b962a"
      },
      "execution_count": 23,
      "outputs": [
        {
          "output_type": "stream",
          "name": "stdout",
          "text": [
            "✅ Full cleaned dataset saved as kaggle_survey_cleaned_full.csv\n",
            "Final shape: (34100, 342)\n"
          ]
        }
      ]
    },
    {
      "cell_type": "markdown",
      "source": [
        "#Label Encoder"
      ],
      "metadata": {
        "id": "-AafHC4posWz"
      }
    },
    {
      "cell_type": "code",
      "source": [
        "from sklearn.preprocessing import LabelEncoder\n",
        "\n",
        "df = pd.read_csv(\"kaggle_survey_cleaned_full.csv\")\n",
        "\n",
        "# Manual Mapping (Education = ordered category)\n",
        "\n",
        "edu_map = {\n",
        "    \"Doctoral degree\": 4,\n",
        "    \"Master’s degree\": 3,\n",
        "    \"Bachelor’s degree\": 2,\n",
        "    \"Some college/university study without earning a degree\": 1,\n",
        "    \"High school\": 0,\n",
        "    \"Not Answered\": -1\n",
        "}\n",
        "if \"Q4\" in df.columns:\n",
        "    df[\"Q4_EducationEncoded\"] = df[\"Q4\"].map(edu_map)\n",
        "\n",
        "# Label Encoding (Gender, Role, Country)\n",
        "\n",
        "for col in [\"Q2\", \"Q3\", \"Q5\"]:\n",
        "    if col in df.columns:\n",
        "        le = LabelEncoder()\n",
        "        df[col+\"_Encoded\"] = le.fit_transform(df[col])\n",
        "        print(f\"{col} mapping:\", dict(zip(le.classes_, le.transform(le.classes_))))\n",
        "\n"
      ],
      "metadata": {
        "colab": {
          "base_uri": "https://localhost:8080/"
        },
        "id": "QwzZrREjon8v",
        "outputId": "aafbef4c-0252-4e01-8577-14eeb52cf77c"
      },
      "execution_count": 24,
      "outputs": [
        {
          "output_type": "stream",
          "name": "stdout",
          "text": [
            "Q2 mapping: {'Man': np.int64(0), 'Nonbinary': np.int64(1), 'Prefer not to say': np.int64(2), 'Prefer to self-describe': np.int64(3), 'What is your gender? - Selected Choice': np.int64(4), 'Woman': np.int64(5)}\n",
            "Q3 mapping: {'Algeria': np.int64(0), 'Argentina': np.int64(1), 'Australia': np.int64(2), 'Austria': np.int64(3), 'Bangladesh': np.int64(4), 'Belarus': np.int64(5), 'Belgium': np.int64(6), 'Brazil': np.int64(7), 'Canada': np.int64(8), 'Chile': np.int64(9), 'China': np.int64(10), 'Colombia': np.int64(11), 'Czech Republic': np.int64(12), 'Denmark': np.int64(13), 'Ecuador': np.int64(14), 'Egypt': np.int64(15), 'Ethiopia': np.int64(16), 'France': np.int64(17), 'Germany': np.int64(18), 'Ghana': np.int64(19), 'Greece': np.int64(20), 'Hong Kong (S.A.R.)': np.int64(21), 'I do not wish to disclose my location': np.int64(22), 'In which country do you currently reside?': np.int64(23), 'India': np.int64(24), 'Indonesia': np.int64(25), 'Iran, Islamic Republic of...': np.int64(26), 'Iraq': np.int64(27), 'Ireland': np.int64(28), 'Israel': np.int64(29), 'Italy': np.int64(30), 'Japan': np.int64(31), 'Kazakhstan': np.int64(32), 'Kenya': np.int64(33), 'Malaysia': np.int64(34), 'Mexico': np.int64(35), 'Morocco': np.int64(36), 'Nepal': np.int64(37), 'Netherlands': np.int64(38), 'Nigeria': np.int64(39), 'Norway': np.int64(40), 'Other': np.int64(41), 'Pakistan': np.int64(42), 'Peru': np.int64(43), 'Philippines': np.int64(44), 'Poland': np.int64(45), 'Portugal': np.int64(46), 'Republic of Korea': np.int64(47), 'Romania': np.int64(48), 'Russia': np.int64(49), 'Saudi Arabia': np.int64(50), 'Singapore': np.int64(51), 'South Africa': np.int64(52), 'South Korea': np.int64(53), 'Spain': np.int64(54), 'Sri Lanka': np.int64(55), 'Sweden': np.int64(56), 'Switzerland': np.int64(57), 'Taiwan': np.int64(58), 'Thailand': np.int64(59), 'Tunisia': np.int64(60), 'Turkey': np.int64(61), 'Uganda': np.int64(62), 'Ukraine': np.int64(63), 'United Arab Emirates': np.int64(64), 'United Kingdom of Great Britain and Northern Ireland': np.int64(65), 'United States': np.int64(66), 'Vietnam': np.int64(67)}\n",
            "Q5 mapping: {'Business Analyst': np.int64(0), 'Currently not employed': np.int64(1), 'DBA/Database Engineer': np.int64(2), 'Data Analyst': np.int64(3), 'Data Engineer': np.int64(4), 'Data Scientist': np.int64(5), 'Developer Relations/Advocacy': np.int64(6), 'Machine Learning Engineer': np.int64(7), 'Other': np.int64(8), 'Product Manager': np.int64(9), 'Product/Project Manager': np.int64(10), 'Program/Project Manager': np.int64(11), 'Research Scientist': np.int64(12), 'Select the title most similar to your current role (or most recent title if retired): - Selected Choice': np.int64(13), 'Software Engineer': np.int64(14), 'Statistician': np.int64(15), 'Student': np.int64(16), nan: np.int64(17)}\n"
          ]
        },
        {
          "output_type": "stream",
          "name": "stderr",
          "text": [
            "/tmp/ipython-input-2252039811.py:3: DtypeWarning: Columns (0,1,19,31,45,48,51,64,81,93,100,106,108,132,151,161,166,213,226,238,253,267,275,281,291) have mixed types. Specify dtype option on import or set low_memory=False.\n",
            "  df = pd.read_csv(\"kaggle_survey_cleaned_full.csv\")\n"
          ]
        }
      ]
    },
    {
      "cell_type": "code",
      "source": [
        "\n",
        "import ast\n",
        "from sklearn.preprocessing import MultiLabelBinarizer\n",
        "\n",
        "if \"Q7_Combined\" in df.columns:\n",
        "    df[\"Q7_Combined\"] = df[\"Q7_Combined\"].apply(\n",
        "        lambda x: ast.literal_eval(x) if isinstance(x, str) else []\n",
        "    )\n",
        "    mlb = MultiLabelBinarizer()\n",
        "    lang_encoded = mlb.fit_transform(df[\"Q7_Combined\"])\n",
        "    lang_df = pd.DataFrame(lang_encoded, columns=[f\"Lang_{c}\" for c in mlb.classes_])\n",
        "    df = pd.concat([df, lang_df], axis=1)\n"
      ],
      "metadata": {
        "id": "egv-QdhNpHzZ"
      },
      "execution_count": 25,
      "outputs": []
    },
    {
      "cell_type": "code",
      "source": [
        "\n",
        "df.to_csv(\"kaggle_survey_encoded.csv\", index=False)\n",
        "print(\"✅ Encoded dataset saved as kaggle_survey_encoded.csv\")\n"
      ],
      "metadata": {
        "colab": {
          "base_uri": "https://localhost:8080/"
        },
        "id": "txgqSRfwpKqs",
        "outputId": "c06f411a-a1d5-4fb5-c547-bd3cd9963d9d"
      },
      "execution_count": 26,
      "outputs": [
        {
          "output_type": "stream",
          "name": "stdout",
          "text": [
            "✅ Encoded dataset saved as kaggle_survey_encoded.csv\n"
          ]
        }
      ]
    },
    {
      "cell_type": "markdown",
      "source": [
        "#Summary"
      ],
      "metadata": {
        "id": "zPbYW8DCq7A_"
      }
    },
    {
      "cell_type": "code",
      "source": [
        "\n",
        "import seaborn as sns\n",
        "\n",
        "df = pd.read_csv(\"kaggle_survey_encoded.csv\")\n",
        "\n",
        "def plot_top_counts(series, title, xlabel, topn=10):\n",
        "    plt.figure(figsize=(8,5))\n",
        "    counts = series.value_counts().head(topn)\n",
        "    sns.barplot(x=counts.values, y=counts.index, palette=\"viridis\")\n",
        "    plt.title(title, fontsize=14)\n",
        "    plt.xlabel(xlabel)\n",
        "    plt.ylabel(\"\")\n",
        "    plt.show()\n",
        "    return counts\n"
      ],
      "metadata": {
        "colab": {
          "base_uri": "https://localhost:8080/"
        },
        "id": "_u97xA5Tq6W9",
        "outputId": "ec7b657b-42c1-40b8-d81c-795f8d88435b"
      },
      "execution_count": 29,
      "outputs": [
        {
          "output_type": "stream",
          "name": "stderr",
          "text": [
            "/tmp/ipython-input-519840530.py:3: DtypeWarning: Columns (0,1,19,31,45,48,51,64,81,93,100,106,108,132,151,161,166,213,226,238,253,267,275,281,291) have mixed types. Specify dtype option on import or set low_memory=False.\n",
            "  df = pd.read_csv(\"kaggle_survey_encoded.csv\")\n"
          ]
        }
      ]
    },
    {
      "cell_type": "code",
      "source": [
        "\n",
        "columns_map = df.iloc[0].to_dict()\n",
        "df = df[1:]\n",
        "\n",
        "# Helper function to clean labels\n",
        "def clean_label(text):\n",
        "    if \" - \" in str(text):\n",
        "        return text.split(\" - \")[-1].strip()\n",
        "    return str(text).strip()\n"
      ],
      "metadata": {
        "id": "gJH5PgmdstwU"
      },
      "execution_count": 42,
      "outputs": []
    },
    {
      "cell_type": "markdown",
      "source": [
        "##Top Programming Language\n"
      ],
      "metadata": {
        "id": "TKnYU5VIrXzP"
      }
    },
    {
      "cell_type": "code",
      "source": [
        "lang_cols = [c for c in df.columns if c.startswith(\"Q7_Part_\")]\n",
        "top_langs = df[lang_cols].notna().sum().sort_values(ascending=False).head(10)\n",
        "top_langs.index = [clean_label(columns_map[c]) for c in top_langs.index]\n",
        "\n",
        "plt.figure(figsize=(8,5))\n",
        "sns.barplot(x=top_langs.values, y=top_langs.index, palette=\"mako\")\n",
        "plt.title(\"Top Programming Languages\")\n",
        "plt.xlabel(\"Respondents\")\n",
        "plt.ylabel(\"\")\n",
        "plt.show()"
      ],
      "metadata": {
        "colab": {
          "base_uri": "https://localhost:8080/",
          "height": 574
        },
        "id": "N40tws-QrR3D",
        "outputId": "859a1f4d-a469-47b9-fc02-e843b2f2c9b5"
      },
      "execution_count": 43,
      "outputs": [
        {
          "output_type": "stream",
          "name": "stderr",
          "text": [
            "/tmp/ipython-input-649555386.py:6: FutureWarning: \n",
            "\n",
            "Passing `palette` without assigning `hue` is deprecated and will be removed in v0.14.0. Assign the `y` variable to `hue` and set `legend=False` for the same effect.\n",
            "\n",
            "  sns.barplot(x=top_langs.values, y=top_langs.index, palette=\"mako\")\n"
          ]
        },
        {
          "output_type": "display_data",
          "data": {
            "text/plain": [
              "<Figure size 800x500 with 1 Axes>"
            ],
            "image/png": "[encoded data removed]"
          },
          "metadata": {}
        }
      ]
    },
    {
      "cell_type": "markdown",
      "source": [
        "##Top IDEs\\TOOLS"
      ],
      "metadata": {
        "id": "pstuPtnQtDq4"
      }
    },
    {
      "cell_type": "code",
      "source": [
        "ide_cols = [c for c in df.columns if c.startswith(\"Q9_Part_\")]\n",
        "if len(ide_cols) > 0:\n",
        "    top_ides = df[ide_cols].notna().sum().sort_values(ascending=False).head(10)\n",
        "    top_ides.index = [clean_label(columns_map[c]) for c in top_ides.index]\n",
        "\n",
        "    plt.figure(figsize=(8,5))\n",
        "    sns.barplot(x=top_ides.values, y=top_ides.index, palette=\"crest\")\n",
        "    plt.title(\"Top IDEs / Tools\")\n",
        "    plt.xlabel(\"Respondents\")\n",
        "    plt.ylabel(\"\")\n",
        "    plt.show()"
      ],
      "metadata": {
        "colab": {
          "base_uri": "https://localhost:8080/",
          "height": 574
        },
        "id": "9asxE6vfrh6W",
        "outputId": "2ea26c96-a06f-4b3e-a4b5-d39b01ba3054"
      },
      "execution_count": 44,
      "outputs": [
        {
          "output_type": "stream",
          "name": "stderr",
          "text": [
            "/tmp/ipython-input-3565492351.py:7: FutureWarning: \n",
            "\n",
            "Passing `palette` without assigning `hue` is deprecated and will be removed in v0.14.0. Assign the `y` variable to `hue` and set `legend=False` for the same effect.\n",
            "\n",
            "  sns.barplot(x=top_ides.values, y=top_ides.index, palette=\"crest\")\n"
          ]
        },
        {
          "output_type": "display_data",
          "data": {
            "text/plain": [
              "<Figure size 800x500 with 1 Axes>"
            ],
            "image/png": "[encoded data removed]"
          },
          "metadata": {}
        }
      ]
    },
    {
      "cell_type": "markdown",
      "source": [
        "##Top Cloud Platforms"
      ],
      "metadata": {
        "id": "HHAw0yYmtMT3"
      }
    },
    {
      "cell_type": "code",
      "source": [
        "cloud_cols = [c for c in df.columns if c.startswith(\"Q27_A_Part_\")]\n",
        "if len(cloud_cols) > 0:\n",
        "    top_cloud = df[cloud_cols].notna().sum().sort_values(ascending=False).head(10)\n",
        "    top_cloud.index = [clean_label(columns_map[c]) for c in top_cloud.index]\n",
        "\n",
        "    plt.figure(figsize=(8,5))\n",
        "    sns.barplot(x=top_cloud.values, y=top_cloud.index, palette=\"rocket\")\n",
        "    plt.title(\"Top Cloud Platforms\")\n",
        "    plt.xlabel(\"Respondents\")\n",
        "    plt.ylabel(\"\")\n",
        "    plt.show()"
      ],
      "metadata": {
        "colab": {
          "base_uri": "https://localhost:8080/",
          "height": 574
        },
        "id": "E7i7LHdCrmtF",
        "outputId": "29ca9497-880c-4673-aa40-20f8310131ef"
      },
      "execution_count": 45,
      "outputs": [
        {
          "output_type": "stream",
          "name": "stderr",
          "text": [
            "/tmp/ipython-input-1159963983.py:7: FutureWarning: \n",
            "\n",
            "Passing `palette` without assigning `hue` is deprecated and will be removed in v0.14.0. Assign the `y` variable to `hue` and set `legend=False` for the same effect.\n",
            "\n",
            "  sns.barplot(x=top_cloud.values, y=top_cloud.index, palette=\"rocket\")\n"
          ]
        },
        {
          "output_type": "display_data",
          "data": {
            "text/plain": [
              "<Figure size 800x500 with 1 Axes>"
            ],
            "image/png": "[encoded data removed]"
          },
          "metadata": {}
        }
      ]
    },
    {
      "cell_type": "markdown",
      "source": [
        "##Job Role vs Education Level\n"
      ],
      "metadata": {
        "id": "vJcfF-RBr37b"
      }
    },
    {
      "cell_type": "code",
      "source": [
        "if \"Q4\" in df.columns and \"Q5\" in df.columns:\n",
        "    edu_role = pd.crosstab(df[\"Q5\"], df[\"Q4\"])\n",
        "    edu_role.plot(kind=\"barh\", stacked=True, figsize=(10,6), colormap=\"tab20\")\n",
        "    plt.title(\"Job Role vs Education Level\")\n",
        "    plt.xlabel(\"Number of Respondents\")\n",
        "    plt.ylabel(\"Job Role\")\n",
        "    plt.legend(bbox_to_anchor=(1.05, 1), loc='upper left')\n",
        "    plt.show()\n"
      ],
      "metadata": {
        "colab": {
          "base_uri": "https://localhost:8080/",
          "height": 364
        },
        "id": "x1uNp792rqql",
        "outputId": "1df8af81-5ff7-49ba-efa4-550496421c79"
      },
      "execution_count": 34,
      "outputs": [
        {
          "output_type": "display_data",
          "data": {
            "text/plain": [
              "<Figure size 1000x600 with 1 Axes>"
            ],
            "image/png": "[encoded data removed]"
          },
          "metadata": {}
        }
      ]
    },
    {
      "cell_type": "markdown",
      "source": [
        "##Top Countries of Respondents"
      ],
      "metadata": {
        "id": "G8H4X5PZr83S"
      }
    },
    {
      "cell_type": "code",
      "source": [
        "\n",
        "if \"Q3\" in df.columns:\n",
        "    plot_top_counts(df[\"Q3\"], \"Top Countries of Respondents\", \"Number of Respondents\", topn=10)"
      ],
      "metadata": {
        "colab": {
          "base_uri": "https://localhost:8080/",
          "height": 575
        },
        "id": "-kNHp-jYruxb",
        "outputId": "4fc1c084-e578-48bb-9877-ed3af6975835"
      },
      "execution_count": 36,
      "outputs": [
        {
          "output_type": "stream",
          "name": "stderr",
          "text": [
            "/tmp/ipython-input-519840530.py:8: FutureWarning: \n",
            "\n",
            "Passing `palette` without assigning `hue` is deprecated and will be removed in v0.14.0. Assign the `y` variable to `hue` and set `legend=False` for the same effect.\n",
            "\n",
            "  sns.barplot(x=counts.values, y=counts.index, palette=\"viridis\")\n"
          ]
        },
        {
          "output_type": "display_data",
          "data": {
            "text/plain": [
              "<Figure size 800x500 with 1 Axes>"
            ],
            "image/png": "[encoded data removed]"
          },
          "metadata": {}
        }
      ]
    }
  ]
}